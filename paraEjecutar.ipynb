{
 "cells": [
  {
   "cell_type": "code",
   "execution_count": 1,
   "metadata": {},
   "outputs": [
    {
     "name": "stderr",
     "output_type": "stream",
     "text": [
      "Using TensorFlow backend.\n"
     ]
    }
   ],
   "source": [
    "# importing libraries\n",
    "from keras.preprocessing.image import ImageDataGenerator\n",
    "from keras.models import Sequential\n",
    "from keras.layers import Conv2D, MaxPooling2D\n",
    "from keras.layers import Activation, Dropout, Flatten, Dense\n",
    "from keras import backend as K"
   ]
  },
  {
   "cell_type": "code",
   "execution_count": 27,
   "metadata": {},
   "outputs": [
    {
     "name": "stdout",
     "output_type": "stream",
     "text": [
      "Found 10 images belonging to 1 classes.\n",
      "<keras.preprocessing.image.DirectoryIterator object at 0x7f1fa4ba2d68>\n",
      "Found 0 images belonging to 0 classes.\n"
     ]
    }
   ],
   "source": [
    "###https://www.geeksforgeeks.org/python-image-classification-using-keras/\n",
    "img_width, img_height = 224, 224\n",
    "img_width, img_height = 480, 349\n",
    "\n",
    "train_data_dir = 'v_data_fx/train1/'\n",
    "validation_data_dir = 'v_data_fx/test/'\n",
    "nb_train_samples = 400\n",
    "nb_validation_samples = 100\n",
    "epochs = 10\n",
    "batch_size = 16\n",
    "\n",
    "if K.image_data_format() == 'channels_first':\n",
    "\tinput_shape = (3, img_width, img_height)\n",
    "else:\n",
    "\tinput_shape = (img_width, img_height, 3)\n",
    "\n",
    "model = Sequential()\n",
    "model.add(Conv2D(32, (2, 2), input_shape = input_shape))\n",
    "model.add(Activation('relu'))\n",
    "model.add(MaxPooling2D(pool_size =(2, 2)))\n",
    "\n",
    "model.add(Conv2D(32, (2, 2)))\n",
    "model.add(Activation('relu'))\n",
    "model.add(MaxPooling2D(pool_size =(2, 2)))\n",
    "\n",
    "model.add(Conv2D(64, (2, 2)))\n",
    "model.add(Activation('relu'))\n",
    "model.add(MaxPooling2D(pool_size =(2, 2)))\n",
    "\n",
    "model.add(Flatten())\n",
    "model.add(Dense(64))\n",
    "model.add(Activation('relu'))\n",
    "model.add(Dropout(0.5))\n",
    "model.add(Dense(1))\n",
    "model.add(Activation('sigmoid'))\n",
    "\n",
    "model.compile(loss ='binary_crossentropy',\n",
    "\t\t\t\t\toptimizer ='rmsprop',\n",
    "\t\t\t\tmetrics =['accuracy'])\n",
    "\n",
    "train_datagen = ImageDataGenerator(\n",
    "\t\t\t\trescale = 1. / 255,\n",
    "\t\t\t\tshear_range = 0.2,\n",
    "\t\t\t\tzoom_range = 0.2,\n",
    "\t\t\thorizontal_flip = True)\n",
    "\n",
    "test_datagen = ImageDataGenerator(rescale = 1. / 255)\n",
    "\n",
    "train_generator = train_datagen.flow_from_directory(train_data_dir,\n",
    "\t\t\t\t\t\t\ttarget_size =(img_width, img_height),\n",
    "\t\t\t\t\tbatch_size = batch_size, class_mode ='binary')\n",
    "\n",
    "print(train_generator)\n",
    "\n",
    "validation_generator = test_datagen.flow_from_directory(\n",
    "\t\t\t\t\t\t\t\t\tvalidation_data_dir,\n",
    "\t\t\t\ttarget_size =(img_width, img_height),\n",
    "\t\tbatch_size = batch_size, class_mode ='binary')"
   ]
  },
  {
   "cell_type": "code",
   "execution_count": 25,
   "metadata": {},
   "outputs": [
    {
     "name": "stdout",
     "output_type": "stream",
     "text": [
      "Epoch 1/10\n",
      "25/25 [==============================] - 10s 416ms/step - loss: 0.0254 - accuracy: 0.9960\n",
      "Epoch 2/10\n",
      "25/25 [==============================] - 10s 402ms/step - loss: 4.3152e-21 - accuracy: 1.0000\n",
      "Epoch 3/10\n",
      "25/25 [==============================] - 10s 402ms/step - loss: 3.2917e-22 - accuracy: 1.0000\n",
      "Epoch 4/10\n",
      "25/25 [==============================] - 10s 402ms/step - loss: 6.5292e-24 - accuracy: 1.0000\n",
      "Epoch 5/10\n",
      "25/25 [==============================] - 10s 406ms/step - loss: 7.5934e-21 - accuracy: 1.0000\n",
      "Epoch 6/10\n",
      "25/25 [==============================] - 10s 405ms/step - loss: 3.3211e-19 - accuracy: 1.0000\n",
      "Epoch 7/10\n",
      "25/25 [==============================] - 10s 407ms/step - loss: 9.7720e-18 - accuracy: 1.0000\n",
      "Epoch 8/10\n",
      "25/25 [==============================] - 10s 410ms/step - loss: 2.1070e-10 - accuracy: 1.0000\n",
      "Epoch 9/10\n",
      "25/25 [==============================] - 10s 405ms/step - loss: 2.1401e-19 - accuracy: 1.0000\n",
      "Epoch 10/10\n",
      "25/25 [==============================] - 10s 406ms/step - loss: 4.1103e-20 - accuracy: 1.0000\n"
     ]
    }
   ],
   "source": [
    "model.fit_generator(train_generator,\n",
    "\tsteps_per_epoch = nb_train_samples // batch_size,\n",
    "\tepochs = epochs, validation_data = validation_generator,\n",
    "\tvalidation_steps = nb_validation_samples // batch_size)\n",
    "\n",
    "model.save_weights('model_saved.h5')"
   ]
  },
  {
   "cell_type": "code",
   "execution_count": null,
   "metadata": {},
   "outputs": [],
   "source": []
  },
  {
   "cell_type": "code",
   "execution_count": null,
   "metadata": {},
   "outputs": [],
   "source": []
  }
 ],
 "metadata": {
  "kernelspec": {
   "display_name": "Python 3",
   "language": "python",
   "name": "python3"
  },
  "language_info": {
   "codemirror_mode": {
    "name": "ipython",
    "version": 3
   },
   "file_extension": ".py",
   "mimetype": "text/x-python",
   "name": "python",
   "nbconvert_exporter": "python",
   "pygments_lexer": "ipython3",
   "version": "3.6.9"
  }
 },
 "nbformat": 4,
 "nbformat_minor": 4
}
